{
 "cells": [
  {
   "cell_type": "markdown",
   "id": "37ed7f65-7710-43f0-8c7a-6b9f26d5442a",
   "metadata": {},
   "source": [
    "# TTS Evaluation Results Viewer\n",
    "\n",
    "This notebook provides a simple and extensible interface for visualizing the results of automated Text-to-Speech (TTS) evaluations.\n",
    "> Note: This notebook is designed for exploratory use and is not part of the core evaluation pipeline.\n"
   ]
  },
  {
   "cell_type": "markdown",
   "id": "61027b5c-7ac0-4a0c-9029-f72b02a351e8",
   "metadata": {
    "jp-MarkdownHeadingCollapsed": true
   },
   "source": [
    "# Imports\n"
   ]
  },
  {
   "cell_type": "code",
   "execution_count": 6,
   "id": "initial_id",
   "metadata": {
    "jupyter": {
     "is_executing": true
    }
   },
   "outputs": [],
   "source": [
    "# import libraries\n",
    "import pandas as pd\n",
    "import matplotlib.pyplot as plt\n",
    "import seaborn as sns\n",
    "\n",
    "%matplotlib inline"
   ]
  },
  {
   "cell_type": "markdown",
   "id": "1fc114b9-3f86-4209-8728-c8a139527b39",
   "metadata": {
    "jp-MarkdownHeadingCollapsed": true
   },
   "source": [
    "# Load data"
   ]
  },
  {
   "cell_type": "code",
   "execution_count": 2,
   "id": "e1180626a6bc3c10",
   "metadata": {},
   "outputs": [],
   "source": [
    "# import and load csv\n",
    "df = pd.read_csv(\"results.csv\")"
   ]
  },
  {
   "cell_type": "code",
   "execution_count": 7,
   "id": "bbc9e51ab715876e",
   "metadata": {},
   "outputs": [
    {
     "data": {
      "text/html": [
       "<div>\n",
       "<style scoped>\n",
       "    .dataframe tbody tr th:only-of-type {\n",
       "        vertical-align: middle;\n",
       "    }\n",
       "\n",
       "    .dataframe tbody tr th {\n",
       "        vertical-align: top;\n",
       "    }\n",
       "\n",
       "    .dataframe thead th {\n",
       "        text-align: right;\n",
       "    }\n",
       "</style>\n",
       "<table border=\"1\" class=\"dataframe\">\n",
       "  <thead>\n",
       "    <tr style=\"text-align: right;\">\n",
       "      <th></th>\n",
       "      <th>sample_id</th>\n",
       "      <th>language</th>\n",
       "      <th>model</th>\n",
       "      <th>speaker</th>\n",
       "      <th>text</th>\n",
       "      <th>wer</th>\n",
       "      <th>cer</th>\n",
       "      <th>similarity</th>\n",
       "      <th>f0_mean</th>\n",
       "      <th>f0_std</th>\n",
       "      <th>duration</th>\n",
       "      <th>speech_rate</th>\n",
       "      <th>mos_score</th>\n",
       "    </tr>\n",
       "  </thead>\n",
       "  <tbody>\n",
       "    <tr>\n",
       "      <th>0</th>\n",
       "      <td>sample_001</td>\n",
       "      <td>en</td>\n",
       "      <td>TTS-Demo</td>\n",
       "      <td>Andrea</td>\n",
       "      <td>The birch canoe slid on the smooth planks.</td>\n",
       "      <td>0.000</td>\n",
       "      <td>0.000</td>\n",
       "      <td>0.4081</td>\n",
       "      <td>234.78</td>\n",
       "      <td>61.67</td>\n",
       "      <td>1.96</td>\n",
       "      <td>4.08</td>\n",
       "      <td>4.304943</td>\n",
       "    </tr>\n",
       "    <tr>\n",
       "      <th>1</th>\n",
       "      <td>sample_002</td>\n",
       "      <td>en</td>\n",
       "      <td>TTS-Demo</td>\n",
       "      <td>Andrea</td>\n",
       "      <td>Glue the sheet to the dark blue background.</td>\n",
       "      <td>0.000</td>\n",
       "      <td>0.000</td>\n",
       "      <td>0.5870</td>\n",
       "      <td>235.03</td>\n",
       "      <td>78.69</td>\n",
       "      <td>2.92</td>\n",
       "      <td>2.74</td>\n",
       "      <td>4.465319</td>\n",
       "    </tr>\n",
       "    <tr>\n",
       "      <th>2</th>\n",
       "      <td>sample_003</td>\n",
       "      <td>en</td>\n",
       "      <td>TTS-Demo</td>\n",
       "      <td>Andrea</td>\n",
       "      <td>It's easy to tell the depth of a well.</td>\n",
       "      <td>0.000</td>\n",
       "      <td>0.000</td>\n",
       "      <td>0.6301</td>\n",
       "      <td>244.31</td>\n",
       "      <td>63.34</td>\n",
       "      <td>2.16</td>\n",
       "      <td>4.17</td>\n",
       "      <td>4.479194</td>\n",
       "    </tr>\n",
       "    <tr>\n",
       "      <th>3</th>\n",
       "      <td>sample_004</td>\n",
       "      <td>en</td>\n",
       "      <td>TTS-Demo</td>\n",
       "      <td>Andrea</td>\n",
       "      <td>These days a chicken leg is a rare dish.</td>\n",
       "      <td>0.111</td>\n",
       "      <td>0.025</td>\n",
       "      <td>0.5536</td>\n",
       "      <td>234.40</td>\n",
       "      <td>65.35</td>\n",
       "      <td>2.04</td>\n",
       "      <td>4.41</td>\n",
       "      <td>4.422277</td>\n",
       "    </tr>\n",
       "    <tr>\n",
       "      <th>4</th>\n",
       "      <td>sample_005</td>\n",
       "      <td>en</td>\n",
       "      <td>TTS-Demo</td>\n",
       "      <td>Andrea</td>\n",
       "      <td>Rice is often served in round bowls.</td>\n",
       "      <td>0.000</td>\n",
       "      <td>0.000</td>\n",
       "      <td>0.5048</td>\n",
       "      <td>203.45</td>\n",
       "      <td>42.62</td>\n",
       "      <td>2.64</td>\n",
       "      <td>2.65</td>\n",
       "      <td>4.427558</td>\n",
       "    </tr>\n",
       "  </tbody>\n",
       "</table>\n",
       "</div>"
      ],
      "text/plain": [
       "    sample_id language     model speaker  \\\n",
       "0  sample_001       en  TTS-Demo  Andrea   \n",
       "1  sample_002       en  TTS-Demo  Andrea   \n",
       "2  sample_003       en  TTS-Demo  Andrea   \n",
       "3  sample_004       en  TTS-Demo  Andrea   \n",
       "4  sample_005       en  TTS-Demo  Andrea   \n",
       "\n",
       "                                          text    wer    cer  similarity  \\\n",
       "0   The birch canoe slid on the smooth planks.  0.000  0.000      0.4081   \n",
       "1  Glue the sheet to the dark blue background.  0.000  0.000      0.5870   \n",
       "2       It's easy to tell the depth of a well.  0.000  0.000      0.6301   \n",
       "3     These days a chicken leg is a rare dish.  0.111  0.025      0.5536   \n",
       "4         Rice is often served in round bowls.  0.000  0.000      0.5048   \n",
       "\n",
       "   f0_mean  f0_std  duration  speech_rate  mos_score  \n",
       "0   234.78   61.67      1.96         4.08   4.304943  \n",
       "1   235.03   78.69      2.92         2.74   4.465319  \n",
       "2   244.31   63.34      2.16         4.17   4.479194  \n",
       "3   234.40   65.35      2.04         4.41   4.422277  \n",
       "4   203.45   42.62      2.64         2.65   4.427558  "
      ]
     },
     "execution_count": 7,
     "metadata": {},
     "output_type": "execute_result"
    }
   ],
   "source": [
    "# Display the first few rows\n",
    "df.head()"
   ]
  },
  {
   "cell_type": "markdown",
   "id": "24bdf7d4-2238-4de7-9490-ebd21b9be364",
   "metadata": {
    "jp-MarkdownHeadingCollapsed": true
   },
   "source": [
    "# Examples"
   ]
  },
  {
   "cell_type": "markdown",
   "id": "d1701bae-9ea1-44cf-a6f2-fc42f30ebad9",
   "metadata": {},
   "source": [
    "## Boxplot – MOS-Score Distributuion\n",
    "Show distribution of MOS scores grouped by model"
   ]
  },
  {
   "cell_type": "code",
   "execution_count": 8,
   "id": "f175b639-6345-479e-8fc4-cce7d490752f",
   "metadata": {},
   "outputs": [
    {
     "data": {
      "image/png": "[encoded data removed]",
      "text/plain": [
       "<Figure size 640x480 with 1 Axes>"
      ]
     },
     "metadata": {},
     "output_type": "display_data"
    }
   ],
   "source": [
    "sns.boxplot(x=\"model\", y=\"mos_score\", data=df)\n",
    "plt.title(\"MOS Score Distribution per Model\")\n",
    "plt.xlabel(\"TTS Model\")\n",
    "plt.ylabel(\"MOS Score\")\n",
    "plt.show()"
   ]
  },
  {
   "cell_type": "markdown",
   "id": "8111736f-c3c5-4dfd-8c1e-bbcbe550e418",
   "metadata": {},
   "source": [
    "## Scatterplot – WER vs. MOS\n",
    "Relationship between intelligibility (WER) and perceived quality (MOS)"
   ]
  },
  {
   "cell_type": "code",
   "execution_count": 9,
   "id": "7fcd41e4-b6b1-41e2-8897-1983137a4fee",
   "metadata": {},
   "outputs": [
    {
     "data": {
      "image/png": "[encoded data removed]",
      "text/plain": [
       "<Figure size 640x480 with 1 Axes>"
      ]
     },
     "metadata": {},
     "output_type": "display_data"
    }
   ],
   "source": [
    "sns.scatterplot(x=\"wer\", y=\"mos_score\", hue=\"model\", data=df)\n",
    "plt.title(\"Intelligibility vs. MOS\")\n",
    "plt.xlabel(\"Word Error Rate (WER)\")\n",
    "plt.ylabel(\"MOS Score\")\n",
    "plt.grid(True)\n",
    "plt.show()"
   ]
  },
  {
   "cell_type": "code",
   "execution_count": null,
   "id": "b99c0d15-5a34-4a5a-8108-932311bf23c0",
   "metadata": {},
   "outputs": [],
   "source": []
  }
 ],
 "metadata": {
  "kernelspec": {
   "display_name": "Python 3 (ipykernel)",
   "language": "python",
   "name": "python3"
  },
  "language_info": {
   "codemirror_mode": {
    "name": "ipython",
    "version": 3
   },
   "file_extension": ".py",
   "mimetype": "text/x-python",
   "name": "python",
   "nbconvert_exporter": "python",
   "pygments_lexer": "ipython3",
   "version": "3.10.6"
  }
 },
 "nbformat": 4,
 "nbformat_minor": 5
}
